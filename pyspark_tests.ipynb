{
 "cells": [
  {
   "cell_type": "code",
   "execution_count": 43,
   "metadata": {},
   "outputs": [],
   "source": [
    "import string\n",
    "import nltk\n",
    "\n",
    "import numpy as np\n",
    "import pandas as pd\n",
    "import matplotlib.pyplot as plt\n",
    "\n",
    "from nltk.stem.snowball import SnowballStemmer\n",
    "from sklearn.feature_extraction import text\n",
    "from pyspark.ml.feature import HashingTF, IDF, Tokenizer\n",
    "from pyspark.ml.classification import NaiveBayes, NaiveBayesModel\n",
    "from pyspark.ml.evaluation import MulticlassClassificationEvaluator\n"
   ]
  },
  {
   "cell_type": "markdown",
   "metadata": {},
   "source": [
    "#### Functions"
   ]
  },
  {
   "cell_type": "code",
   "execution_count": 24,
   "metadata": {},
   "outputs": [],
   "source": [
    "def clean_text (text) :\n",
    "    words_List = nltk.word_tokenize(text)\n",
    "    final_list = [elto for elto in words_List if elto not in STOP_WORDS]\n",
    "    return \" \".join(final_list)"
   ]
  },
  {
   "cell_type": "markdown",
   "metadata": {},
   "source": [
    "#### Constants"
   ]
  },
  {
   "cell_type": "code",
   "execution_count": 25,
   "metadata": {},
   "outputs": [],
   "source": [
    "STOP = text.ENGLISH_STOP_WORDS\n",
    "STOP_WORDS = list(STOP) + list(string.punctuation)"
   ]
  },
  {
   "cell_type": "markdown",
   "metadata": {},
   "source": [
    "### Read two .csv files and merge them into one dataset "
   ]
  },
  {
   "cell_type": "code",
   "execution_count": 26,
   "metadata": {},
   "outputs": [
    {
     "name": "stdout",
     "output_type": "stream",
     "text": [
      "(6000, 3)\n"
     ]
    }
   ],
   "source": [
    "data_folder = 'data\\\\'\n",
    "channel1 = 'iitztimmy'\n",
    "channel2 = 'pgl'\n",
    "\n",
    "channel1_csv = data_folder + channel1 + '.csv'\n",
    "channel2_csv = data_folder + channel2 + '.csv'\n",
    "\n",
    "df1 = pd.read_csv(channel1_csv, index_col=0)\n",
    "df2 = pd.read_csv(channel2_csv, index_col=0)\n",
    "\n",
    "df = pd.concat([df1, df2], ignore_index=True) \n",
    "\n",
    "df.replace(to_replace={'channel': {'#iitztimmy':0, '#pgl':1}}, inplace=True)\n",
    "df.drop(columns='datetime', inplace=True)\n",
    "\n",
    "print(df.shape)"
   ]
  },
  {
   "cell_type": "markdown",
   "metadata": {},
   "source": [
    "### Preprocessing"
   ]
  },
  {
   "cell_type": "code",
   "execution_count": 27,
   "metadata": {},
   "outputs": [
    {
     "data": {
      "text/html": [
       "<div>\n",
       "<style scoped>\n",
       "    .dataframe tbody tr th:only-of-type {\n",
       "        vertical-align: middle;\n",
       "    }\n",
       "\n",
       "    .dataframe tbody tr th {\n",
       "        vertical-align: top;\n",
       "    }\n",
       "\n",
       "    .dataframe thead th {\n",
       "        text-align: right;\n",
       "    }\n",
       "</style>\n",
       "<table border=\"1\" class=\"dataframe\">\n",
       "  <thead>\n",
       "    <tr style=\"text-align: right;\">\n",
       "      <th></th>\n",
       "      <th>username</th>\n",
       "      <th>channel</th>\n",
       "      <th>message</th>\n",
       "    </tr>\n",
       "  </thead>\n",
       "  <tbody>\n",
       "    <tr>\n",
       "      <th>0</th>\n",
       "      <td>cgtiwnl</td>\n",
       "      <td>0</td>\n",
       "      <td>mfker got gang lmao</td>\n",
       "    </tr>\n",
       "    <tr>\n",
       "      <th>1</th>\n",
       "      <td>out_smoked</td>\n",
       "      <td>0</td>\n",
       "      <td>’ d timmi</td>\n",
       "    </tr>\n",
       "    <tr>\n",
       "      <th>2</th>\n",
       "      <td>fourthhokage20</td>\n",
       "      <td>0</td>\n",
       "      <td>ouch</td>\n",
       "    </tr>\n",
       "    <tr>\n",
       "      <th>3</th>\n",
       "      <td>streamelements</td>\n",
       "      <td>0</td>\n",
       "      <td>new youtub channel arriv iitzaaaa subscrib sec...</td>\n",
       "    </tr>\n",
       "    <tr>\n",
       "      <th>4</th>\n",
       "      <td>thedarky5</td>\n",
       "      <td>0</td>\n",
       "      <td>sad</td>\n",
       "    </tr>\n",
       "    <tr>\n",
       "      <th>...</th>\n",
       "      <td>...</td>\n",
       "      <td>...</td>\n",
       "      <td>...</td>\n",
       "    </tr>\n",
       "    <tr>\n",
       "      <th>5995</th>\n",
       "      <td>blessed909</td>\n",
       "      <td>1</td>\n",
       "      <td>gg</td>\n",
       "    </tr>\n",
       "    <tr>\n",
       "      <th>5996</th>\n",
       "      <td>bydrop</td>\n",
       "      <td>1</td>\n",
       "      <td>astrali realis awara</td>\n",
       "    </tr>\n",
       "    <tr>\n",
       "      <th>5997</th>\n",
       "      <td>bloombird</td>\n",
       "      <td>1</td>\n",
       "      <td>lol konfig push middl xd gogogo</td>\n",
       "    </tr>\n",
       "    <tr>\n",
       "      <th>5998</th>\n",
       "      <td>emzee17</td>\n",
       "      <td>1</td>\n",
       "      <td>astrali fan 2022 kekw kekw</td>\n",
       "    </tr>\n",
       "    <tr>\n",
       "      <th>5999</th>\n",
       "      <td>thomasdachz</td>\n",
       "      <td>1</td>\n",
       "      <td>kkona murica kkona babi kkona</td>\n",
       "    </tr>\n",
       "  </tbody>\n",
       "</table>\n",
       "<p>5886 rows × 3 columns</p>\n",
       "</div>"
      ],
      "text/plain": [
       "            username  channel  \\\n",
       "0            cgtiwnl        0   \n",
       "1         out_smoked        0   \n",
       "2     fourthhokage20        0   \n",
       "3     streamelements        0   \n",
       "4          thedarky5        0   \n",
       "...              ...      ...   \n",
       "5995      blessed909        1   \n",
       "5996          bydrop        1   \n",
       "5997       bloombird        1   \n",
       "5998         emzee17        1   \n",
       "5999     thomasdachz        1   \n",
       "\n",
       "                                                message  \n",
       "0                                   mfker got gang lmao  \n",
       "1                                             ’ d timmi  \n",
       "2                                                  ouch  \n",
       "3     new youtub channel arriv iitzaaaa subscrib sec...  \n",
       "4                                                   sad  \n",
       "...                                                 ...  \n",
       "5995                                                 gg  \n",
       "5996                               astrali realis awara  \n",
       "5997                    lol konfig push middl xd gogogo  \n",
       "5998                         astrali fan 2022 kekw kekw  \n",
       "5999                      kkona murica kkona babi kkona  \n",
       "\n",
       "[5886 rows x 3 columns]"
      ]
     },
     "execution_count": 27,
     "metadata": {},
     "output_type": "execute_result"
    }
   ],
   "source": [
    "# Notice that we want Sleep = SLEEP = SlEEp = sleeP ETC\n",
    "df.loc[:, 'message'] = df.loc[:, 'message'].str.lower()\n",
    "\n",
    "# Drop NaN values\n",
    "df.dropna(inplace=True, subset=['channel', 'message'])\n",
    "\n",
    "# Remove words like: can, could, will, been, would...\n",
    "df.loc[:, 'message'] = df.loc[:, 'message'].apply(clean_text)\n",
    "\n",
    "# stem separate words\n",
    "stemmer = SnowballStemmer(\"english\")\n",
    "df.loc[:, 'message'] = df.loc[:, 'message'].astype(str).str.split()\n",
    "df.loc[:, 'message'] = df.loc[:, 'message'].apply(lambda x: [stemmer.stem(word) for word in x])\n",
    "\n",
    "# Remove rows with empty messages\n",
    "df = df[df['message'].astype(bool)]\n",
    "\n",
    "# Rejoin list of messages to single string message separated by <space>\n",
    "df.loc[:, 'message'] = df.loc[:, 'message'].apply(lambda x: ' '.join(x))\n",
    "\n",
    "df"
   ]
  },
  {
   "cell_type": "markdown",
   "metadata": {},
   "source": [
    "#### Rename columns to fit PySpark convention (Probably not necessary) and get features and targets"
   ]
  },
  {
   "cell_type": "code",
   "execution_count": 28,
   "metadata": {},
   "outputs": [
    {
     "data": {
      "text/html": [
       "<div>\n",
       "<style scoped>\n",
       "    .dataframe tbody tr th:only-of-type {\n",
       "        vertical-align: middle;\n",
       "    }\n",
       "\n",
       "    .dataframe tbody tr th {\n",
       "        vertical-align: top;\n",
       "    }\n",
       "\n",
       "    .dataframe thead th {\n",
       "        text-align: right;\n",
       "    }\n",
       "</style>\n",
       "<table border=\"1\" class=\"dataframe\">\n",
       "  <thead>\n",
       "    <tr style=\"text-align: right;\">\n",
       "      <th></th>\n",
       "      <th>message</th>\n",
       "      <th>label</th>\n",
       "    </tr>\n",
       "  </thead>\n",
       "  <tbody>\n",
       "    <tr>\n",
       "      <th>0</th>\n",
       "      <td>mfker got gang lmao</td>\n",
       "      <td>0</td>\n",
       "    </tr>\n",
       "    <tr>\n",
       "      <th>1</th>\n",
       "      <td>’ d timmi</td>\n",
       "      <td>0</td>\n",
       "    </tr>\n",
       "    <tr>\n",
       "      <th>2</th>\n",
       "      <td>ouch</td>\n",
       "      <td>0</td>\n",
       "    </tr>\n",
       "    <tr>\n",
       "      <th>3</th>\n",
       "      <td>new youtub channel arriv iitzaaaa subscrib sec...</td>\n",
       "      <td>0</td>\n",
       "    </tr>\n",
       "    <tr>\n",
       "      <th>4</th>\n",
       "      <td>sad</td>\n",
       "      <td>0</td>\n",
       "    </tr>\n",
       "    <tr>\n",
       "      <th>...</th>\n",
       "      <td>...</td>\n",
       "      <td>...</td>\n",
       "    </tr>\n",
       "    <tr>\n",
       "      <th>5995</th>\n",
       "      <td>gg</td>\n",
       "      <td>1</td>\n",
       "    </tr>\n",
       "    <tr>\n",
       "      <th>5996</th>\n",
       "      <td>astrali realis awara</td>\n",
       "      <td>1</td>\n",
       "    </tr>\n",
       "    <tr>\n",
       "      <th>5997</th>\n",
       "      <td>lol konfig push middl xd gogogo</td>\n",
       "      <td>1</td>\n",
       "    </tr>\n",
       "    <tr>\n",
       "      <th>5998</th>\n",
       "      <td>astrali fan 2022 kekw kekw</td>\n",
       "      <td>1</td>\n",
       "    </tr>\n",
       "    <tr>\n",
       "      <th>5999</th>\n",
       "      <td>kkona murica kkona babi kkona</td>\n",
       "      <td>1</td>\n",
       "    </tr>\n",
       "  </tbody>\n",
       "</table>\n",
       "<p>5886 rows × 2 columns</p>\n",
       "</div>"
      ],
      "text/plain": [
       "                                                message  label\n",
       "0                                   mfker got gang lmao      0\n",
       "1                                             ’ d timmi      0\n",
       "2                                                  ouch      0\n",
       "3     new youtub channel arriv iitzaaaa subscrib sec...      0\n",
       "4                                                   sad      0\n",
       "...                                                 ...    ...\n",
       "5995                                                 gg      1\n",
       "5996                               astrali realis awara      1\n",
       "5997                    lol konfig push middl xd gogogo      1\n",
       "5998                         astrali fan 2022 kekw kekw      1\n",
       "5999                      kkona murica kkona babi kkona      1\n",
       "\n",
       "[5886 rows x 2 columns]"
      ]
     },
     "execution_count": 28,
     "metadata": {},
     "output_type": "execute_result"
    }
   ],
   "source": [
    "df.rename(columns={'channel': 'label'}, inplace=True)\n",
    "\n",
    "final_df = df.loc[:, ['message', 'label']]\n",
    "final_df"
   ]
  },
  {
   "cell_type": "markdown",
   "metadata": {},
   "source": [
    "### Convert pandas DataFrame to PySpark DataFrame"
   ]
  },
  {
   "cell_type": "code",
   "execution_count": 29,
   "metadata": {},
   "outputs": [
    {
     "name": "stdout",
     "output_type": "stream",
     "text": [
      "root\n",
      " |-- message: string (nullable = true)\n",
      " |-- label: long (nullable = true)\n",
      "\n"
     ]
    }
   ],
   "source": [
    "spark_df = spark.createDataFrame(final_df)\n",
    "\n",
    "# Uncomment if you want to be as excited as I am right now \n",
    "spark_df.printSchema()\n",
    "# spark_df.show()"
   ]
  },
  {
   "cell_type": "code",
   "execution_count": 30,
   "metadata": {},
   "outputs": [
    {
     "name": "stdout",
     "output_type": "stream",
     "text": [
      "root\n",
      " |-- message: string (nullable = true)\n",
      " |-- label: long (nullable = true)\n",
      "\n"
     ]
    }
   ],
   "source": [
    "spark_df.head(5)\n",
    "spark_df.printSchema()"
   ]
  },
  {
   "cell_type": "code",
   "execution_count": 31,
   "metadata": {},
   "outputs": [
    {
     "name": "stdout",
     "output_type": "stream",
     "text": [
      "+-----+--------------------+\n",
      "|label|            features|\n",
      "+-----+--------------------+\n",
      "|    0|(2000,[10,1126,17...|\n",
      "|    0|(2000,[501,890,13...|\n",
      "|    0|(2000,[346],[6.73...|\n",
      "|    0|(2000,[344,371,38...|\n",
      "|    0|(2000,[438],[5.63...|\n",
      "|    0|(2000,[555],[6.88...|\n",
      "|    0|(2000,[689],[4.99...|\n",
      "|    0|(2000,[1064],[13....|\n",
      "|    0|(2000,[424,526],[...|\n",
      "|    0|(2000,[157],[4.20...|\n",
      "|    0|(2000,[564,837,11...|\n",
      "|    0|(2000,[606],[6.28...|\n",
      "|    0|(2000,[104],[17.3...|\n",
      "|    0|(2000,[1531],[5.4...|\n",
      "|    0|(2000,[7,22,159,2...|\n",
      "|    0|(2000,[1375],[4.2...|\n",
      "|    0|(2000,[149,370,44...|\n",
      "|    0|(2000,[1620],[6.8...|\n",
      "|    0|(2000,[1620],[6.8...|\n",
      "|    0|(2000,[124],[7.07...|\n",
      "+-----+--------------------+\n",
      "only showing top 20 rows\n",
      "\n"
     ]
    }
   ],
   "source": [
    "# break the sentence into a list of words\n",
    "tokenizer = Tokenizer(inputCol=\"message\", outputCol=\"words\")\n",
    "words_data = tokenizer.transform(spark_df)\n",
    "\n",
    "# TF section\n",
    "hashing_TF = HashingTF(inputCol='words', outputCol='rawFeatures', numFeatures=2000)\n",
    "featurized_data = hashing_TF.transform(words_data)\n",
    "\n",
    "# IDF section\n",
    "idf = IDF(inputCol='rawFeatures', outputCol='features')\n",
    "idf_model = idf.fit(featurized_data)\n",
    "\n",
    "rescaled_data = idf_model.transform(featurized_data)\n",
    "\n",
    "rescaled_data.select('label', 'features').show()"
   ]
  },
  {
   "cell_type": "markdown",
   "metadata": {},
   "source": [
    "### Classifier training and evaluation"
   ]
  },
  {
   "cell_type": "code",
   "execution_count": 32,
   "metadata": {},
   "outputs": [],
   "source": [
    "splits = rescaled_data.randomSplit(weights=[0.8, 0.2], seed=42)\n",
    "\n",
    "train = splits[0]\n",
    "test = splits[1]\n",
    "\n",
    "nb = NaiveBayes(smoothing=0.1, modelType='multinomial')\n",
    "\n",
    "model = nb.fit(train)"
   ]
  },
  {
   "cell_type": "code",
   "execution_count": 33,
   "metadata": {},
   "outputs": [
    {
     "name": "stdout",
     "output_type": "stream",
     "text": [
      "+--------------------+-----+--------------------+--------------------+--------------------+--------------------+--------------------+----------+\n",
      "|             message|label|               words|         rawFeatures|            features|       rawPrediction|         probability|prediction|\n",
      "+--------------------+-----+--------------------+--------------------+--------------------+--------------------+--------------------+----------+\n",
      "|'s 10 min 3 day i...|    0|['s, 10, min, 3, ...|(2000,[159,206,11...|(2000,[159,206,11...|[-259.68579862189...|[1.0,3.8743596863...|       0.0|\n",
      "|            's oiler|    0|         ['s, oiler]|(2000,[441,1388],...|(2000,[441,1388],...|[-45.199009860193...|[1.0,2.2737497084...|       0.0|\n",
      "|                 0-0|    0|               [0-0]|  (2000,[831],[1.0])|(2000,[831],[6.88...|[-56.424825093964...|[0.53532440454198...|       0.0|\n",
      "|              10 min|    0|           [10, min]|(2000,[159,1953],...|(2000,[159,1953],...|[-50.388218426707...|[0.99994570713437...|       0.0|\n",
      "|               10min|    0|             [10min]|  (2000,[638],[1.0])|(2000,[638],[5.01...|[-29.156439150916...|[0.99975767125945...|       0.0|\n",
      "|           1min damn|    0|        [1min, damn]|(2000,[243,1998],...|(2000,[243,1998],...|[-89.791187228564...|[0.99999999998421...|       0.0|\n",
      "|    3aileigh gn bejj|    0|[3aileigh, gn, bejj]|(2000,[119,936,19...|(2000,[119,936,19...|[-129.99906792294...|[1.0,3.9703052524...|       0.0|\n",
      "|                4444|    0|              [4444]|  (2000,[444],[1.0])|(2000,[444],[7.98...|[-104.71224882872...|[0.54146596042613...|       0.0|\n",
      "|     6 min ohh kappa|    0|[6, min, ohh, kappa]|(2000,[159,1018,1...|(2000,[159,1018,1...|[-154.13957117819...|[1.0,3.3591152656...|       0.0|\n",
      "|         6 min panic|    0|     [6, min, panic]|(2000,[159,1566,1...|(2000,[159,1566,1...|[-78.654239700272...|[1.0,7.1368007615...|       0.0|\n",
      "| 6 minut final sleep|    0|[6, minut, final,...|(2000,[169,490,16...|(2000,[169,490,16...|[-138.64561291115...|[1.0,3.1639890601...|       0.0|\n",
      "|  7 min pepemeltdown|    0|[7, min, pepemelt...|(2000,[158,159,10...|(2000,[158,159,10...|[-104.26628423508...|[0.99999999662184...|       0.0|\n",
      "|         8 min sleep|    0|     [8, min, sleep]|(2000,[159,169,57...|(2000,[159,169,57...|[-96.191775518829...|[0.99999999999999...|       0.0|\n",
      "|          9 min sadg|    0|      [9, min, sadg]|(2000,[159,648,98...|(2000,[159,648,98...|[-85.012581397937...|[0.99994151219402...|       0.0|\n",
      "|                aaaa|    0|              [aaaa]| (2000,[1208],[1.0])|(2000,[1208],[6.1...|[-39.035128906000...|[1.0,1.0203250409...|       0.0|\n",
      "|absolut metagam n...|    0|[absolut, metagam...|(2000,[49,157,212...|(2000,[49,157,212...|[-531.33230060468...|[1.0,1.1606098209...|       0.0|\n",
      "|                  ah|    0|                [ah]|  (2000,[756],[1.0])|(2000,[756],[7.58...|[-66.515830484166...|[0.99999999999999...|       0.0|\n",
      "|bbbbbrrrrruuuuuhhhhh|    0|[bbbbbrrrrruuuuuh...|  (2000,[365],[1.0])|(2000,[365],[4.06...|[-38.478399207376...|[9.57752265575957...|       1.0|\n",
      "|      bedg goodnight|    0|   [bedg, goodnight]|(2000,[12,792],[1...|(2000,[12,792],[5...|[-73.265867345325...|[1.0,4.6909461997...|       0.0|\n",
      "|bet point oiler s...|    0|[bet, point, oile...|(2000,[416,435,44...|(2000,[416,435,44...|[-206.46814818069...|[1.0,3.4884646869...|       0.0|\n",
      "+--------------------+-----+--------------------+--------------------+--------------------+--------------------+--------------------+----------+\n",
      "only showing top 20 rows\n",
      "\n",
      "Test set accuracy = 0.8381037567084079\n"
     ]
    }
   ],
   "source": [
    "predictions = model.transform(test)\n",
    "predictions.show()\n",
    "\n",
    "evaluator = MulticlassClassificationEvaluator(labelCol='label', predictionCol='prediction', metricName='accuracy')\n",
    "\n",
    "accuracy = evaluator.evaluate(predictions)\n",
    "print(f'Test set accuracy = {str(accuracy)}')"
   ]
  },
  {
   "cell_type": "code",
   "execution_count": 36,
   "metadata": {},
   "outputs": [],
   "source": [
    "# model.save(\"models/multinomialNB\")\n",
    "model.write().overwrite().save(\"models/multinomialNB\")"
   ]
  },
  {
   "cell_type": "code",
   "execution_count": 37,
   "metadata": {},
   "outputs": [
    {
     "data": {
      "text/plain": [
       "NaiveBayesModel: uid=NaiveBayes_af335a176991, modelType=multinomial, numClasses=2, numFeatures=2000"
      ]
     },
     "execution_count": 37,
     "metadata": {},
     "output_type": "execute_result"
    }
   ],
   "source": [
    "# NaiveBayesModel.load('models\\\\multinomialNB')"
   ]
  }
 ],
 "metadata": {
  "kernelspec": {
   "display_name": ".venv",
   "language": "python",
   "name": ".venv"
  },
  "language_info": {
   "codemirror_mode": {
    "name": "ipython",
    "version": 3
   },
   "file_extension": ".py",
   "mimetype": "text/x-python",
   "name": "python",
   "nbconvert_exporter": "python",
   "pygments_lexer": "ipython3",
   "version": "3.10.4"
  },
  "orig_nbformat": 4
 },
 "nbformat": 4,
 "nbformat_minor": 2
}
