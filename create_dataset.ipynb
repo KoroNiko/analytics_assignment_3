{
 "cells": [
  {
   "cell_type": "code",
   "execution_count": 1,
   "metadata": {},
   "outputs": [],
   "source": [
    "import socket\n",
    "import json\n",
    "import re\n",
    "\n",
    "import pandas as pd"
   ]
  },
  {
   "cell_type": "code",
   "execution_count": 2,
   "metadata": {},
   "outputs": [],
   "source": [
    "# Change this parameter for the number of messages you want in the dataset\n",
    "# I chose 10 just for tests\n",
    "DATASET_LENGTH = 10"
   ]
  },
  {
   "cell_type": "code",
   "execution_count": 3,
   "metadata": {},
   "outputs": [],
   "source": [
    "client_socket = socket.socket(socket.AF_INET, socket.SOCK_STREAM)\n",
    "client_socket.connect(('localhost', 8080))"
   ]
  },
  {
   "cell_type": "code",
   "execution_count": 4,
   "metadata": {},
   "outputs": [
    {
     "ename": "ConnectionResetError",
     "evalue": "[WinError 10054] An existing connection was forcibly closed by the remote host",
     "output_type": "error",
     "traceback": [
      "\u001b[1;31m---------------------------------------------------------------------------\u001b[0m",
      "\u001b[1;31mConnectionResetError\u001b[0m                      Traceback (most recent call last)",
      "\u001b[1;32mc:\\Users\\Nikos\\Desktop\\analytics_project\\analytics_assignment_3\\create_dataset.ipynb Cell 4'\u001b[0m in \u001b[0;36m<cell line: 3>\u001b[1;34m()\u001b[0m\n\u001b[0;32m      <a href='vscode-notebook-cell:/c%3A/Users/Nikos/Desktop/analytics_project/analytics_assignment_3/create_dataset.ipynb#ch0000003?line=0'>1</a>\u001b[0m channel_list \u001b[39m=\u001b[39m []\n\u001b[0;32m      <a href='vscode-notebook-cell:/c%3A/Users/Nikos/Desktop/analytics_project/analytics_assignment_3/create_dataset.ipynb#ch0000003?line=2'>3</a>\u001b[0m \u001b[39mwhile\u001b[39;00m \u001b[39mlen\u001b[39m(channel_list) \u001b[39m<\u001b[39m DATASET_LENGTH:\n\u001b[1;32m----> <a href='vscode-notebook-cell:/c%3A/Users/Nikos/Desktop/analytics_project/analytics_assignment_3/create_dataset.ipynb#ch0000003?line=3'>4</a>\u001b[0m     data \u001b[39m=\u001b[39m client_socket\u001b[39m.\u001b[39;49mrecv(\u001b[39m1024\u001b[39;49m)\n\u001b[0;32m      <a href='vscode-notebook-cell:/c%3A/Users/Nikos/Desktop/analytics_project/analytics_assignment_3/create_dataset.ipynb#ch0000003?line=4'>5</a>\u001b[0m     \u001b[39mtry\u001b[39;00m: \n\u001b[0;32m      <a href='vscode-notebook-cell:/c%3A/Users/Nikos/Desktop/analytics_project/analytics_assignment_3/create_dataset.ipynb#ch0000003?line=5'>6</a>\u001b[0m         channel_list\u001b[39m.\u001b[39mappend(json\u001b[39m.\u001b[39mloads(data))\n",
      "\u001b[1;31mConnectionResetError\u001b[0m: [WinError 10054] An existing connection was forcibly closed by the remote host"
     ]
    }
   ],
   "source": [
    "channel_list = []\n",
    "\n",
    "while len(channel_list) < DATASET_LENGTH:\n",
    "    data = client_socket.recv(1024)\n",
    "    try: \n",
    "        channel_list.append(json.loads(data))\n",
    "    except:\n",
    "        data_str = data.decode('utf-8')\n",
    "        # match curly braces content (payload of json)\n",
    "        matched = re.findall(r'{(.*?)}', data_str)\n",
    "        # add braces to convert to json\n",
    "        # with better regex matching this can be avoided\n",
    "        matched = list(map(lambda x: '{'+x+'}', matched))\n",
    "        # re-encode into utf-8 to use json.loads()\n",
    "        matched = list(map(lambda x: x.encode('utf-8'), matched))\n",
    "        # convert to dict\n",
    "        matched = list(map(lambda x: json.loads(x), matched))\n",
    "        channel_list.extend(matched)\n",
    "    print(data)\n",
    "\n",
    "    \n",
    "client_socket.shutdown(socket.SHUT_RDWR)"
   ]
  },
  {
   "cell_type": "code",
   "execution_count": null,
   "metadata": {},
   "outputs": [],
   "source": [
    "# print(channel_list)\n",
    "df = pd.DataFrame(channel_list)\n",
    "\n",
    "df.to_csv('dataset.csv')"
   ]
  }
 ],
 "metadata": {
  "interpreter": {
   "hash": "3ef7bfce4295b9231ba342c7940904953e4109385f03de18d3a38947780f5dd0"
  },
  "kernelspec": {
   "display_name": ".venv",
   "language": "python",
   "name": ".venv"
  },
  "language_info": {
   "codemirror_mode": {
    "name": "ipython",
    "version": 3
   },
   "file_extension": ".py",
   "mimetype": "text/x-python",
   "name": "python",
   "nbconvert_exporter": "python",
   "pygments_lexer": "ipython3",
   "version": "3.10.4"
  },
  "orig_nbformat": 4
 },
 "nbformat": 4,
 "nbformat_minor": 2
}
