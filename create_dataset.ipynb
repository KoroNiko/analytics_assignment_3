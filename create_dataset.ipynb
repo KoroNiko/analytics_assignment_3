{
 "cells": [
  {
   "cell_type": "code",
   "execution_count": 1,
   "metadata": {},
   "outputs": [],
   "source": [
    "import socket\n",
    "import json\n",
    "import re\n",
    "\n",
    "import pandas as pd"
   ]
  },
  {
   "cell_type": "code",
   "execution_count": 2,
   "metadata": {},
   "outputs": [],
   "source": [
    "# Change this parameter for the number of messages you want in the dataset\n",
    "# I chose 10 just for tests\n",
    "DATASET_LENGTH = 10"
   ]
  },
  {
   "cell_type": "code",
   "execution_count": 3,
   "metadata": {},
   "outputs": [],
   "source": [
    "client_socket = socket.socket(socket.AF_INET, socket.SOCK_STREAM)\n",
    "client_socket.connect(('localhost', 8080))"
   ]
  },
  {
   "cell_type": "code",
   "execution_count": 4,
   "metadata": {},
   "outputs": [
    {
     "name": "stdout",
     "output_type": "stream",
     "text": [
      "b'{\"datetime\": \"2022-05-20T16:19:39.152815\", \"username\": \"0dku1\", \"channel\": \"#pgl\", \"message\": \"feel bad for roej\"}\\n'\n"
     ]
    },
    {
     "ename": "TypeError",
     "evalue": "map() must have at least two arguments.",
     "output_type": "error",
     "traceback": [
      "\u001b[1;31m---------------------------------------------------------------------------\u001b[0m",
      "\u001b[1;31mJSONDecodeError\u001b[0m                           Traceback (most recent call last)",
      "\u001b[1;32mc:\\Users\\Nikos\\Desktop\\analytics_project\\analytics_assignment_3\\create_dataset.ipynb Cell 4'\u001b[0m in \u001b[0;36m<cell line: 3>\u001b[1;34m()\u001b[0m\n\u001b[0;32m      <a href='vscode-notebook-cell:/c%3A/Users/Nikos/Desktop/analytics_project/analytics_assignment_3/create_dataset.ipynb#ch0000003?line=4'>5</a>\u001b[0m \u001b[39mtry\u001b[39;00m: \n\u001b[1;32m----> <a href='vscode-notebook-cell:/c%3A/Users/Nikos/Desktop/analytics_project/analytics_assignment_3/create_dataset.ipynb#ch0000003?line=5'>6</a>\u001b[0m     channel_list\u001b[39m.\u001b[39mappend(json\u001b[39m.\u001b[39;49mloads(data))\n\u001b[0;32m      <a href='vscode-notebook-cell:/c%3A/Users/Nikos/Desktop/analytics_project/analytics_assignment_3/create_dataset.ipynb#ch0000003?line=6'>7</a>\u001b[0m \u001b[39mexcept\u001b[39;00m:\n",
      "File \u001b[1;32m~\\AppData\\Local\\Programs\\Python\\Python310\\lib\\json\\__init__.py:346\u001b[0m, in \u001b[0;36mloads\u001b[1;34m(s, cls, object_hook, parse_float, parse_int, parse_constant, object_pairs_hook, **kw)\u001b[0m\n\u001b[0;32m    <a href='file:///c%3A/Users/Nikos/AppData/Local/Programs/Python/Python310/lib/json/__init__.py?line=342'>343</a>\u001b[0m \u001b[39mif\u001b[39;00m (\u001b[39mcls\u001b[39m \u001b[39mis\u001b[39;00m \u001b[39mNone\u001b[39;00m \u001b[39mand\u001b[39;00m object_hook \u001b[39mis\u001b[39;00m \u001b[39mNone\u001b[39;00m \u001b[39mand\u001b[39;00m\n\u001b[0;32m    <a href='file:///c%3A/Users/Nikos/AppData/Local/Programs/Python/Python310/lib/json/__init__.py?line=343'>344</a>\u001b[0m         parse_int \u001b[39mis\u001b[39;00m \u001b[39mNone\u001b[39;00m \u001b[39mand\u001b[39;00m parse_float \u001b[39mis\u001b[39;00m \u001b[39mNone\u001b[39;00m \u001b[39mand\u001b[39;00m\n\u001b[0;32m    <a href='file:///c%3A/Users/Nikos/AppData/Local/Programs/Python/Python310/lib/json/__init__.py?line=344'>345</a>\u001b[0m         parse_constant \u001b[39mis\u001b[39;00m \u001b[39mNone\u001b[39;00m \u001b[39mand\u001b[39;00m object_pairs_hook \u001b[39mis\u001b[39;00m \u001b[39mNone\u001b[39;00m \u001b[39mand\u001b[39;00m \u001b[39mnot\u001b[39;00m kw):\n\u001b[1;32m--> <a href='file:///c%3A/Users/Nikos/AppData/Local/Programs/Python/Python310/lib/json/__init__.py?line=345'>346</a>\u001b[0m     \u001b[39mreturn\u001b[39;00m _default_decoder\u001b[39m.\u001b[39;49mdecode(s)\n\u001b[0;32m    <a href='file:///c%3A/Users/Nikos/AppData/Local/Programs/Python/Python310/lib/json/__init__.py?line=346'>347</a>\u001b[0m \u001b[39mif\u001b[39;00m \u001b[39mcls\u001b[39m \u001b[39mis\u001b[39;00m \u001b[39mNone\u001b[39;00m:\n",
      "File \u001b[1;32m~\\AppData\\Local\\Programs\\Python\\Python310\\lib\\json\\decoder.py:340\u001b[0m, in \u001b[0;36mJSONDecoder.decode\u001b[1;34m(self, s, _w)\u001b[0m\n\u001b[0;32m    <a href='file:///c%3A/Users/Nikos/AppData/Local/Programs/Python/Python310/lib/json/decoder.py?line=338'>339</a>\u001b[0m \u001b[39mif\u001b[39;00m end \u001b[39m!=\u001b[39m \u001b[39mlen\u001b[39m(s):\n\u001b[1;32m--> <a href='file:///c%3A/Users/Nikos/AppData/Local/Programs/Python/Python310/lib/json/decoder.py?line=339'>340</a>\u001b[0m     \u001b[39mraise\u001b[39;00m JSONDecodeError(\u001b[39m\"\u001b[39m\u001b[39mExtra data\u001b[39m\u001b[39m\"\u001b[39m, s, end)\n\u001b[0;32m    <a href='file:///c%3A/Users/Nikos/AppData/Local/Programs/Python/Python310/lib/json/decoder.py?line=340'>341</a>\u001b[0m \u001b[39mreturn\u001b[39;00m obj\n",
      "\u001b[1;31mJSONDecodeError\u001b[0m: Extra data: line 2 column 1 (char 112)",
      "\nDuring handling of the above exception, another exception occurred:\n",
      "\u001b[1;31mTypeError\u001b[0m                                 Traceback (most recent call last)",
      "\u001b[1;32mc:\\Users\\Nikos\\Desktop\\analytics_project\\analytics_assignment_3\\create_dataset.ipynb Cell 4'\u001b[0m in \u001b[0;36m<cell line: 3>\u001b[1;34m()\u001b[0m\n\u001b[0;32m     <a href='vscode-notebook-cell:/c%3A/Users/Nikos/Desktop/analytics_project/analytics_assignment_3/create_dataset.ipynb#ch0000003?line=9'>10</a>\u001b[0m matched \u001b[39m=\u001b[39m re\u001b[39m.\u001b[39mfindall(\u001b[39mr\u001b[39m\u001b[39m'\u001b[39m\u001b[39m{\u001b[39m\u001b[39m(.*?)}\u001b[39m\u001b[39m'\u001b[39m, data_str)\n\u001b[0;32m     <a href='vscode-notebook-cell:/c%3A/Users/Nikos/Desktop/analytics_project/analytics_assignment_3/create_dataset.ipynb#ch0000003?line=10'>11</a>\u001b[0m \u001b[39m# add braces to convert to json\u001b[39;00m\n\u001b[0;32m     <a href='vscode-notebook-cell:/c%3A/Users/Nikos/Desktop/analytics_project/analytics_assignment_3/create_dataset.ipynb#ch0000003?line=11'>12</a>\u001b[0m \u001b[39m# with better regex matching this can be avoided\u001b[39;00m\n\u001b[1;32m---> <a href='vscode-notebook-cell:/c%3A/Users/Nikos/Desktop/analytics_project/analytics_assignment_3/create_dataset.ipynb#ch0000003?line=12'>13</a>\u001b[0m matched \u001b[39m=\u001b[39m \u001b[39mlist\u001b[39m(\u001b[39mmap\u001b[39;49m(\u001b[39mlambda\u001b[39;49;00m x: \u001b[39m'\u001b[39;49m\u001b[39m{\u001b[39;49m\u001b[39m'\u001b[39;49m\u001b[39m+\u001b[39;49mx\u001b[39m+\u001b[39;49m\u001b[39m'\u001b[39;49m\u001b[39m}\u001b[39;49m\u001b[39m'\u001b[39;49m))\n\u001b[0;32m     <a href='vscode-notebook-cell:/c%3A/Users/Nikos/Desktop/analytics_project/analytics_assignment_3/create_dataset.ipynb#ch0000003?line=13'>14</a>\u001b[0m \u001b[39m# re-encode into utf-8 to use json.loads()\u001b[39;00m\n\u001b[0;32m     <a href='vscode-notebook-cell:/c%3A/Users/Nikos/Desktop/analytics_project/analytics_assignment_3/create_dataset.ipynb#ch0000003?line=14'>15</a>\u001b[0m matched \u001b[39m=\u001b[39m \u001b[39mlist\u001b[39m(\u001b[39mmap\u001b[39m(\u001b[39mlambda\u001b[39;00m x: x\u001b[39m.\u001b[39mencode(\u001b[39m'\u001b[39m\u001b[39mutf-8\u001b[39m\u001b[39m'\u001b[39m), matched))\n",
      "\u001b[1;31mTypeError\u001b[0m: map() must have at least two arguments."
     ]
    }
   ],
   "source": [
    "channel_list = []\n",
    "\n",
    "while len(channel_list) < DATASET_LENGTH:\n",
    "    data = client_socket.recv(1024)\n",
    "    try: \n",
    "        channel_list.append(json.loads(data))\n",
    "    except:\n",
    "        data_str = data.decode('utf-8')\n",
    "        # match curly braces content (payload of json)\n",
    "        matched = re.findall(r'{(.*?)}', data_str)\n",
    "        # add braces to convert to json\n",
    "        # with better regex matching this can be avoided\n",
    "        matched = list(map(lambda x: '{'+x+'}', matched))\n",
    "        # re-encode into utf-8 to use json.loads()\n",
    "        matched = list(map(lambda x: x.encode('utf-8'), matched))\n",
    "        # convert to dict\n",
    "        matched = list(map(lambda x: json.loads(x), matched))\n",
    "        channel_list.extend(matched)\n",
    "    print(data)\n",
    "\n",
    "    \n",
    "client_socket.shutdown(socket.SHUT_RDWR)"
   ]
  },
  {
   "cell_type": "code",
   "execution_count": null,
   "metadata": {},
   "outputs": [],
   "source": [
    "# print(channel_list)\n",
    "df = pd.DataFrame(channel_list)\n",
    "\n",
    "df.to_csv('dataset.csv')"
   ]
  }
 ],
 "metadata": {
  "interpreter": {
   "hash": "3ef7bfce4295b9231ba342c7940904953e4109385f03de18d3a38947780f5dd0"
  },
  "kernelspec": {
   "display_name": ".venv",
   "language": "python",
   "name": ".venv"
  },
  "language_info": {
   "codemirror_mode": {
    "name": "ipython",
    "version": 3
   },
   "file_extension": ".py",
   "mimetype": "text/x-python",
   "name": "python",
   "nbconvert_exporter": "python",
   "pygments_lexer": "ipython3",
   "version": "3.10.4"
  },
  "orig_nbformat": 4
 },
 "nbformat": 4,
 "nbformat_minor": 2
}
