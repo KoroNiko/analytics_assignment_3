{
 "cells": [
  {
   "cell_type": "code",
   "execution_count": 1,
   "metadata": {},
   "outputs": [],
   "source": [
    "import socket\n",
    "import json\n",
    "import re\n",
    "\n",
    "import pandas as pd"
   ]
  },
  {
   "cell_type": "code",
   "execution_count": null,
   "metadata": {},
   "outputs": [],
   "source": [
    "# Change this parameter for the number of messages you want in the dataset\n",
    "# I chose 10 just for tests\n",
    "DATASET_LENGTH = 10"
   ]
  },
  {
   "cell_type": "code",
   "execution_count": 2,
   "metadata": {},
   "outputs": [],
   "source": [
    "client_socket = socket.socket(socket.AF_INET, socket.SOCK_STREAM)\n",
    "client_socket.connect(('localhost', 8080))"
   ]
  },
  {
   "cell_type": "code",
   "execution_count": 3,
   "metadata": {},
   "outputs": [
    {
     "name": "stdout",
     "output_type": "stream",
     "text": [
      "b'{\"datetime\": \"2022-05-12T00:26:09.807762\", \"username\": \"ejayzt\", \"channel\": \"#iitztimmy\", \"message\": \"YEP\"}\\n'\n",
      "b'{\"datetime\": \"2022-05-12T00:26:09.964770\", \"username\": \"icydelusions\", \"channel\": \"#iitztimmy\", \"message\": \"mods can\\'t change category\"}\\n'\n",
      "b'{\"datetime\": \"2022-05-12T00:26:13.266434\", \"username\": \"wobertbobert\", \"channel\": \"#iitztimmy\", \"message\": \"HUH\"}\\n'\n",
      "b'{\"datetime\": \"2022-05-12T00:26:13.801885\", \"username\": \"randomasain111\", \"channel\": \"#iitztimmy\", \"message\": \"YEPCOCK\"}\\n'\n",
      "b'{\"datetime\": \"2022-05-12T00:26:19.612094\", \"username\": \"stilvox\", \"channel\": \"#iitztimmy\", \"message\": \"YEP\"}\\n'\n",
      "b'{\"datetime\": \"2022-05-12T00:26:20.592792\", \"username\": \"senise_kiname\", \"channel\": \"#iitztimmy\", \"message\": \"YEPCOCK\"}\\n'\n",
      "b'{\"datetime\": \"2022-05-12T00:26:21.376074\", \"username\": \"palomon_z\", \"channel\": \"#iitztimmy\", \"message\": \"thank you and sorry verySadge\"}\\n'\n",
      "b'{\"datetime\": \"2022-05-12T00:26:28.005397\", \"username\": \"zarlx\", \"channel\": \"#iitztimmy\", \"message\": \"COCK YEP\"}\\n'\n",
      "b'{\"datetime\": \"2022-05-12T00:26:28.691201\", \"username\": \"senise_kiname\", \"channel\": \"#iitztimmy\", \"message\": \"Yep\"}\\n'\n",
      "b'{\"datetime\": \"2022-05-12T00:26:30.212937\", \"username\": \"karasuya\", \"channel\": \"#iitztimmy\", \"message\": \"YEP\"}\\n'\n"
     ]
    }
   ],
   "source": [
    "channel_list = []\n",
    "\n",
    "while len(channel_list) < DATASET_LENGTH:\n",
    "    data = client_socket.recv(1024)\n",
    "    try: \n",
    "        channel_list.append(json.loads(data))\n",
    "    except:\n",
    "        data_str = data.decode('utf-8')\n",
    "        # match curly braces content (payload of json)\n",
    "        matched = re.findall(r'{(.*?)}', data_str)\n",
    "        # add braces to convert to json\n",
    "        # with better regex matching this can be avoided\n",
    "        matched = list(map(lambda x: '{'+x+'}'))\n",
    "        # re-encode into utf-8 to use json.loads()\n",
    "        matched = list(map(lambda x: x.encode('utf-8'), matched))\n",
    "        # convert to dict\n",
    "        matched = list(map(lambda x: json.loads(x), matched))\n",
    "        channel_list.extend(matched)\n",
    "    print(data)\n",
    "\n",
    "    \n",
    "client_socket.shutdown(socket.SHUT_RDWR)"
   ]
  },
  {
   "cell_type": "code",
   "execution_count": 6,
   "metadata": {},
   "outputs": [],
   "source": [
    "# print(channel_list)\n",
    "df = pd.DataFrame(channel_list)\n",
    "\n",
    "df.to_csv('dataset.csv')"
   ]
  }
 ],
 "metadata": {
  "interpreter": {
   "hash": "3ef7bfce4295b9231ba342c7940904953e4109385f03de18d3a38947780f5dd0"
  },
  "kernelspec": {
   "display_name": "Python 3.10.4 ('.venv': venv)",
   "language": "python",
   "name": "python3"
  },
  "language_info": {
   "codemirror_mode": {
    "name": "ipython",
    "version": 3
   },
   "file_extension": ".py",
   "mimetype": "text/x-python",
   "name": "python",
   "nbconvert_exporter": "python",
   "pygments_lexer": "ipython3",
   "version": "3.10.4"
  },
  "orig_nbformat": 4
 },
 "nbformat": 4,
 "nbformat_minor": 2
}
