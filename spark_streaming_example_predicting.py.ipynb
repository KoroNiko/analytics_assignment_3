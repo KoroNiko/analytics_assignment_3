{
 "cells": [
  {
   "cell_type": "code",
   "execution_count": 12,
   "metadata": {},
   "outputs": [],
   "source": [
    "import threading\n",
    "\n",
    "# Helper thread to avoid the Spark StreamingContext from blocking Jupyter\n",
    "        \n",
    "class StreamingThread(threading.Thread):\n",
    "    def __init__(self, ssc):\n",
    "        super().__init__()\n",
    "        self.ssc = ssc\n",
    "    def run(self):\n",
    "        self.ssc.start()\n",
    "        self.ssc.awaitTermination()\n",
    "    def stop(self):\n",
    "        print('----- Stopping... this may take a few seconds -----')\n",
    "        self.ssc.stop(stopSparkContext=False, stopGraceFully=True)"
   ]
  },
  {
   "cell_type": "code",
   "execution_count": 13,
   "metadata": {},
   "outputs": [],
   "source": [
    "from pyspark.streaming import StreamingContext\n",
    "from pyspark.sql import Row\n",
    "from pyspark.sql.functions import udf, struct, array, col, lit\n",
    "from pyspark.sql.types import StringType\n",
    "# from pyspark.context import SparkContext\n",
    "# from pyspark.sql.session import SparkSession\n",
    "\n",
    "# sc = SparkContext.getOrCreate()\n",
    "# spark = SparkSession(sc)"
   ]
  },
  {
   "cell_type": "code",
   "execution_count": 14,
   "metadata": {},
   "outputs": [
    {
     "data": {
      "text/plain": [
       "'c:\\\\Users\\\\Nikos\\\\Desktop\\\\analytics_project\\\\Advanced_Analytics\\\\.venv\\\\Scripts\\\\python.exe'"
      ]
     },
     "execution_count": 14,
     "metadata": {},
     "output_type": "execute_result"
    }
   ],
   "source": [
    "sys.executable"
   ]
  },
  {
   "cell_type": "code",
   "execution_count": 15,
   "metadata": {
    "scrolled": true
   },
   "outputs": [
    {
     "data": {
      "text/html": [
       "\n",
       "        <div>\n",
       "            <p><b>SparkContext</b></p>\n",
       "\n",
       "            <p><a href=\"http://192.168.0.143:4040\">Spark UI</a></p>\n",
       "\n",
       "            <dl>\n",
       "              <dt>Version</dt>\n",
       "                <dd><code>v3.2.1</code></dd>\n",
       "              <dt>Master</dt>\n",
       "                <dd><code>local[*]</code></dd>\n",
       "              <dt>AppName</dt>\n",
       "                <dd><code>PySparkShell</code></dd>\n",
       "            </dl>\n",
       "        </div>\n",
       "        "
      ],
      "text/plain": [
       "<SparkContext master=local[*] appName=PySparkShell>"
      ]
     },
     "execution_count": 15,
     "metadata": {},
     "output_type": "execute_result"
    }
   ],
   "source": [
    "sc"
   ]
  },
  {
   "cell_type": "code",
   "execution_count": 16,
   "metadata": {},
   "outputs": [
    {
     "data": {
      "text/html": [
       "\n",
       "            <div>\n",
       "                <p><b>SparkSession - hive</b></p>\n",
       "                \n",
       "        <div>\n",
       "            <p><b>SparkContext</b></p>\n",
       "\n",
       "            <p><a href=\"http://192.168.0.143:4040\">Spark UI</a></p>\n",
       "\n",
       "            <dl>\n",
       "              <dt>Version</dt>\n",
       "                <dd><code>v3.2.1</code></dd>\n",
       "              <dt>Master</dt>\n",
       "                <dd><code>local[*]</code></dd>\n",
       "              <dt>AppName</dt>\n",
       "                <dd><code>PySparkShell</code></dd>\n",
       "            </dl>\n",
       "        </div>\n",
       "        \n",
       "            </div>\n",
       "        "
      ],
      "text/plain": [
       "<pyspark.sql.session.SparkSession at 0x240dba522f0>"
      ]
     },
     "execution_count": 16,
     "metadata": {},
     "output_type": "execute_result"
    }
   ],
   "source": [
    "spark"
   ]
  },
  {
   "cell_type": "code",
   "execution_count": 17,
   "metadata": {},
   "outputs": [],
   "source": [
    "globals()['models_loaded'] = False\n",
    "globals()['my_model'] = None\n",
    "\n",
    "# Toy predict function. Normally you'd use your loaded globals()['my_model'] here\n",
    "def predict(df):\n",
    "    return 'predicted-name-of-channel'\n",
    "\n",
    "predict_udf = udf(predict, StringType())\n",
    "\n",
    "def process(time, rdd):\n",
    "    if rdd.isEmpty():\n",
    "        return\n",
    "    \n",
    "    print(\"========= %s =========\" % str(time))\n",
    "    \n",
    "    # Convert to data frame\n",
    "    df = spark.read.json(rdd)\n",
    "    df.show()\n",
    "    \n",
    "    # Utilize our predict function\n",
    "    df_withpreds = df.withColumn(\"pred\", predict_udf(\n",
    "        struct([df[x] for x in df.columns])\n",
    "    ))\n",
    "    df_withpreds.show()\n",
    "    \n",
    "    # Normally, you wouldn't use a UDF (User Defined Function) Python function to predict as we did here (you can)\n",
    "    # but an MLlib model you've built and saved with Spark\n",
    "    # In this case, you need to prevent loading your model in every call to \"process\" as follows:\n",
    "    \n",
    "    # Load in the model if not yet loaded:\n",
    "    if not globals()['models_loaded']:\n",
    "        # load in your models here\n",
    "        globals()['my_model'] = '***' # Replace '***' with:    [...].load('my_logistic_regression')\n",
    "        globals()['models_loaded'] = True\n",
    "        \n",
    "    # And then predict using the loaded model: \n",
    "    # df_result = globals()['my_model'].transform(df)\n",
    "    # df_result.show()"
   ]
  },
  {
   "cell_type": "code",
   "execution_count": 18,
   "metadata": {},
   "outputs": [],
   "source": [
    "ssc = StreamingContext(sc, 10)"
   ]
  },
  {
   "cell_type": "code",
   "execution_count": 19,
   "metadata": {
    "scrolled": true
   },
   "outputs": [],
   "source": [
    "lines = ssc.socketTextStream(\"localhost\", 8080)\n",
    "lines.foreachRDD(process)"
   ]
  },
  {
   "cell_type": "code",
   "execution_count": 20,
   "metadata": {
    "scrolled": false
   },
   "outputs": [
    {
     "name": "stdout",
     "output_type": "stream",
     "text": [
      "========= 2022-05-20 18:02:10 =========\n",
      "+-------+--------------------+--------------------+------------------+\n",
      "|channel|            datetime|             message|          username|\n",
      "+-------+--------------------+--------------------+------------------+\n",
      "|   #pgl|2022-05-20T16:01:...|                KEKW|   ender_chocolate|\n",
      "|   #pgl|2022-05-20T16:01:...|                KEKW|            nirosb|\n",
      "|   #pgl|2022-05-20T16:01:...|SIUUUUUUUUUUUUUUU...|          wuzzibey|\n",
      "|   #pgl|2022-05-20T16:01:...|                KEKW|            hexzor|\n",
      "|   #pgl|2022-05-20T16:01:...|                 LUL|        filipland_|\n",
      "|   #pgl|2022-05-20T16:01:...|                KEKW|chaczapuri_imeruli|\n",
      "|   #pgl|2022-05-20T16:01:...|                KEKW|         bezeball8|\n",
      "|   #pgl|2022-05-20T16:01:...|                KEKW|           joo1ius|\n",
      "|   #pgl|2022-05-20T16:01:...|                 LUL|      flameboltirl|\n",
      "|   #pgl|2022-05-20T16:01:...|           who that?|     coloneloscopi|\n",
      "|   #pgl|2022-05-20T16:01:...|                KEKW|           mrtatt1|\n",
      "|   #pgl|2022-05-20T16:01:...|  SIUUUUUUUUUUUUU 󠀀|         mercensis|\n",
      "|   #pgl|2022-05-20T16:01:...|                KEKW|          krabbin1|\n",
      "|   #pgl|2022-05-20T16:01:...|CPH Flamess <3   ...|             tr47n|\n",
      "|   #pgl|2022-05-20T16:01:...|                KEKW|          zeonbtvv|\n",
      "|   #pgl|2022-05-20T16:01:...|     ResidentSleeper|         jeanpiouf|\n",
      "|   #pgl|2022-05-20T16:01:...|                KEKW|       maulicoding|\n",
      "|   #pgl|2022-05-20T16:01:...|                LULW|        bunnyclaus|\n",
      "|   #pgl|2022-05-20T16:01:...|       COPIUM FALMES|         krish1904|\n",
      "|   #pgl|2022-05-20T16:01:...|                KEKW|         khoa71199|\n",
      "+-------+--------------------+--------------------+------------------+\n",
      "only showing top 20 rows\n",
      "\n",
      "+-------+--------------------+--------------------+------------------+--------------------+\n",
      "|channel|            datetime|             message|          username|                pred|\n",
      "+-------+--------------------+--------------------+------------------+--------------------+\n",
      "|   #pgl|2022-05-20T16:01:...|                KEKW|   ender_chocolate|predicted-name-of...|\n",
      "|   #pgl|2022-05-20T16:01:...|                KEKW|            nirosb|predicted-name-of...|\n",
      "|   #pgl|2022-05-20T16:01:...|SIUUUUUUUUUUUUUUU...|          wuzzibey|predicted-name-of...|\n",
      "|   #pgl|2022-05-20T16:01:...|                KEKW|            hexzor|predicted-name-of...|\n",
      "|   #pgl|2022-05-20T16:01:...|                 LUL|        filipland_|predicted-name-of...|\n",
      "|   #pgl|2022-05-20T16:01:...|                KEKW|chaczapuri_imeruli|predicted-name-of...|\n",
      "|   #pgl|2022-05-20T16:01:...|                KEKW|         bezeball8|predicted-name-of...|\n",
      "|   #pgl|2022-05-20T16:01:...|                KEKW|           joo1ius|predicted-name-of...|\n",
      "|   #pgl|2022-05-20T16:01:...|                 LUL|      flameboltirl|predicted-name-of...|\n",
      "|   #pgl|2022-05-20T16:01:...|           who that?|     coloneloscopi|predicted-name-of...|\n",
      "|   #pgl|2022-05-20T16:01:...|                KEKW|           mrtatt1|predicted-name-of...|\n",
      "|   #pgl|2022-05-20T16:01:...|  SIUUUUUUUUUUUUU 󠀀|         mercensis|predicted-name-of...|\n",
      "|   #pgl|2022-05-20T16:01:...|                KEKW|          krabbin1|predicted-name-of...|\n",
      "|   #pgl|2022-05-20T16:01:...|CPH Flamess <3   ...|             tr47n|predicted-name-of...|\n",
      "|   #pgl|2022-05-20T16:01:...|                KEKW|          zeonbtvv|predicted-name-of...|\n",
      "|   #pgl|2022-05-20T16:01:...|     ResidentSleeper|         jeanpiouf|predicted-name-of...|\n",
      "|   #pgl|2022-05-20T16:01:...|                KEKW|       maulicoding|predicted-name-of...|\n",
      "|   #pgl|2022-05-20T16:01:...|                LULW|        bunnyclaus|predicted-name-of...|\n",
      "|   #pgl|2022-05-20T16:01:...|       COPIUM FALMES|         krish1904|predicted-name-of...|\n",
      "|   #pgl|2022-05-20T16:01:...|                KEKW|         khoa71199|predicted-name-of...|\n",
      "+-------+--------------------+--------------------+------------------+--------------------+\n",
      "only showing top 20 rows\n",
      "\n",
      "========= 2022-05-20 18:02:20 =========\n"
     ]
    }
   ],
   "source": [
    "ssc_t = StreamingThread(ssc)\n",
    "ssc_t.start()"
   ]
  },
  {
   "cell_type": "code",
   "execution_count": 21,
   "metadata": {
    "scrolled": false
   },
   "outputs": [
    {
     "name": "stdout",
     "output_type": "stream",
     "text": [
      "----- Stopping... this may take a few seconds -----\n",
      "+-------+--------------------+--------------------+--------------------+\n",
      "|channel|            datetime|             message|            username|\n",
      "+-------+--------------------+--------------------+--------------------+\n",
      "|   #pgl|2022-05-20T16:02:...|      This crowd man|         kanesy_1872|\n",
      "|   #pgl|2022-05-20T16:02:...|       goooo AAAAAAA|     nandkishorkalal|\n",
      "|   #pgl|2022-05-20T16:02:...|                KEKW|            poloolpp|\n",
      "|   #pgl|2022-05-20T16:02:...|     ResidentSleeper|      united_klngdom|\n",
      "|   #pgl|2022-05-20T16:02:...| AHHAHHHAAHAHHHHHHHA|           jota23152|\n",
      "|   #pgl|2022-05-20T16:02:...|                KEKW|           sht0rmbtw|\n",
      "|   #pgl|2022-05-20T16:02:...|   TEAM SPIRIT TOP 1|       matvei2007tmb|\n",
      "|   #pgl|2022-05-20T16:02:...|     ResidentSleeper|            mrdivago|\n",
      "|   #pgl|2022-05-20T16:02:...|         snappi kekw|               sevix|\n",
      "|   #pgl|2022-05-20T16:02:...|      FRENCH WutFace|        bobbinrobbin|\n",
      "|   #pgl|2022-05-20T16:02:...|LUL LUL LUL LUL L...|        kamixxxxxxxx|\n",
      "|   #pgl|2022-05-20T16:02:...|                KEKW|           sinadarya|\n",
      "|   #pgl|2022-05-20T16:02:...|ResidentSleeper R...|        ababababaa21|\n",
      "|   #pgl|2022-05-20T16:02:...|             EZ4ENCE|             serj193|\n",
      "|   #pgl|2022-05-20T16:02:...|                 สนส|          mattychanv|\n",
      "|   #pgl|2022-05-20T16:02:...|HAHAHAHAHAHA xqcO...|      nitroturbine12|\n",
      "|   #pgl|2022-05-20T16:02:...|                LMAO|             pitchan|\n",
      "|   #pgl|2022-05-20T16:02:...|              XDDDDD|            mr_kaiki|\n",
      "|   #pgl|2022-05-20T16:02:...|                KEKW|          howard2312|\n",
      "|   #pgl|2022-05-20T16:02:...|             KEKW ??|choppachoppawhere...|\n",
      "+-------+--------------------+--------------------+--------------------+\n",
      "only showing top 20 rows\n",
      "\n",
      "+-------+--------------------+--------------------+--------------------+--------------------+\n",
      "|channel|            datetime|             message|            username|                pred|\n",
      "+-------+--------------------+--------------------+--------------------+--------------------+\n",
      "|   #pgl|2022-05-20T16:02:...|      This crowd man|         kanesy_1872|predicted-name-of...|\n",
      "|   #pgl|2022-05-20T16:02:...|       goooo AAAAAAA|     nandkishorkalal|predicted-name-of...|\n",
      "|   #pgl|2022-05-20T16:02:...|                KEKW|            poloolpp|predicted-name-of...|\n",
      "|   #pgl|2022-05-20T16:02:...|     ResidentSleeper|      united_klngdom|predicted-name-of...|\n",
      "|   #pgl|2022-05-20T16:02:...| AHHAHHHAAHAHHHHHHHA|           jota23152|predicted-name-of...|\n",
      "|   #pgl|2022-05-20T16:02:...|                KEKW|           sht0rmbtw|predicted-name-of...|\n",
      "|   #pgl|2022-05-20T16:02:...|   TEAM SPIRIT TOP 1|       matvei2007tmb|predicted-name-of...|\n",
      "|   #pgl|2022-05-20T16:02:...|     ResidentSleeper|            mrdivago|predicted-name-of...|\n",
      "|   #pgl|2022-05-20T16:02:...|         snappi kekw|               sevix|predicted-name-of...|\n",
      "|   #pgl|2022-05-20T16:02:...|      FRENCH WutFace|        bobbinrobbin|predicted-name-of...|\n",
      "|   #pgl|2022-05-20T16:02:...|LUL LUL LUL LUL L...|        kamixxxxxxxx|predicted-name-of...|\n",
      "|   #pgl|2022-05-20T16:02:...|                KEKW|           sinadarya|predicted-name-of...|\n",
      "|   #pgl|2022-05-20T16:02:...|ResidentSleeper R...|        ababababaa21|predicted-name-of...|\n",
      "|   #pgl|2022-05-20T16:02:...|             EZ4ENCE|             serj193|predicted-name-of...|\n",
      "|   #pgl|2022-05-20T16:02:...|                 สนส|          mattychanv|predicted-name-of...|\n",
      "|   #pgl|2022-05-20T16:02:...|HAHAHAHAHAHA xqcO...|      nitroturbine12|predicted-name-of...|\n",
      "|   #pgl|2022-05-20T16:02:...|                LMAO|             pitchan|predicted-name-of...|\n",
      "|   #pgl|2022-05-20T16:02:...|              XDDDDD|            mr_kaiki|predicted-name-of...|\n",
      "|   #pgl|2022-05-20T16:02:...|                KEKW|          howard2312|predicted-name-of...|\n",
      "|   #pgl|2022-05-20T16:02:...|             KEKW ??|choppachoppawhere...|predicted-name-of...|\n",
      "+-------+--------------------+--------------------+--------------------+--------------------+\n",
      "only showing top 20 rows\n",
      "\n",
      "========= 2022-05-20 18:02:30 =========\n",
      "+-------+--------------------+--------------------+------------------+\n",
      "|channel|            datetime|             message|          username|\n",
      "+-------+--------------------+--------------------+------------------+\n",
      "|   #pgl|2022-05-20T16:02:...|         NE OMEGALUL|          seazoncs|\n",
      "|   #pgl|2022-05-20T16:02:...|           who is it|     flameash45177|\n",
      "|   #pgl|2022-05-20T16:02:...|           WHO THAT?|      jollyminisun|\n",
      "|   #pgl|2022-05-20T16:02:...|                Who?|      paramarthfpl|\n",
      "|   #pgl|2022-05-20T16:02:...|                KEKW|blankthedanktwitch|\n",
      "|   #pgl|2022-05-20T16:02:...|                KEKW|           sh1van_|\n",
      "|   #pgl|2022-05-20T16:02:...|    AOAOAOAOAOAOAOAO|          c1ashycs|\n",
      "|   #pgl|2022-05-20T16:02:...|            xqcCheer|        hardwellv1|\n",
      "|   #pgl|2022-05-20T16:02:...|              EEEERO|           jalberg|\n",
      "|   #pgl|2022-05-20T16:02:...|ResidentSleeper R...|    booomingblood1|\n",
      "|   #pgl|2022-05-20T16:02:...|       hahahhahahaha|     mindbreaker11|\n",
      "|   #pgl|2022-05-20T16:02:...|             lol wtf|       dragonstary|\n",
      "|   #pgl|2022-05-20T16:02:...|             CPH 0-2|        mhfletcher|\n",
      "|   #pgl|2022-05-20T16:02:...|HeyGuys HeyGuys H...|    dreadknight909|\n",
      "|   #pgl|2022-05-20T16:02:...|eslcsCHICKJAM esl...|           yosplyo|\n",
      "|   #pgl|2022-05-20T16:02:...|          ZYWHO KEKW|        feishi6462|\n",
      "|   #pgl|2022-05-20T16:02:...|       NEO IS MY CEO|           lpankyl|\n",
      "|   #pgl|2022-05-20T16:02:...|     ResidentSleeper|         karinxuwu|\n",
      "|   #pgl|2022-05-20T16:02:...|                 Wtf|        bito_chell|\n",
      "|   #pgl|2022-05-20T16:02:...|camperZZZ camperZ...|      nakiri_55688|\n",
      "+-------+--------------------+--------------------+------------------+\n",
      "only showing top 20 rows\n",
      "\n",
      "+-------+--------------------+--------------------+------------------+--------------------+\n",
      "|channel|            datetime|             message|          username|                pred|\n",
      "+-------+--------------------+--------------------+------------------+--------------------+\n",
      "|   #pgl|2022-05-20T16:02:...|         NE OMEGALUL|          seazoncs|predicted-name-of...|\n",
      "|   #pgl|2022-05-20T16:02:...|           who is it|     flameash45177|predicted-name-of...|\n",
      "|   #pgl|2022-05-20T16:02:...|           WHO THAT?|      jollyminisun|predicted-name-of...|\n",
      "|   #pgl|2022-05-20T16:02:...|                Who?|      paramarthfpl|predicted-name-of...|\n",
      "|   #pgl|2022-05-20T16:02:...|                KEKW|blankthedanktwitch|predicted-name-of...|\n",
      "|   #pgl|2022-05-20T16:02:...|                KEKW|           sh1van_|predicted-name-of...|\n",
      "|   #pgl|2022-05-20T16:02:...|    AOAOAOAOAOAOAOAO|          c1ashycs|predicted-name-of...|\n",
      "|   #pgl|2022-05-20T16:02:...|            xqcCheer|        hardwellv1|predicted-name-of...|\n",
      "|   #pgl|2022-05-20T16:02:...|              EEEERO|           jalberg|predicted-name-of...|\n",
      "|   #pgl|2022-05-20T16:02:...|ResidentSleeper R...|    booomingblood1|predicted-name-of...|\n",
      "|   #pgl|2022-05-20T16:02:...|       hahahhahahaha|     mindbreaker11|predicted-name-of...|\n",
      "|   #pgl|2022-05-20T16:02:...|             lol wtf|       dragonstary|predicted-name-of...|\n",
      "|   #pgl|2022-05-20T16:02:...|             CPH 0-2|        mhfletcher|predicted-name-of...|\n",
      "|   #pgl|2022-05-20T16:02:...|HeyGuys HeyGuys H...|    dreadknight909|predicted-name-of...|\n",
      "|   #pgl|2022-05-20T16:02:...|eslcsCHICKJAM esl...|           yosplyo|predicted-name-of...|\n",
      "|   #pgl|2022-05-20T16:02:...|          ZYWHO KEKW|        feishi6462|predicted-name-of...|\n",
      "|   #pgl|2022-05-20T16:02:...|       NEO IS MY CEO|           lpankyl|predicted-name-of...|\n",
      "|   #pgl|2022-05-20T16:02:...|     ResidentSleeper|         karinxuwu|predicted-name-of...|\n",
      "|   #pgl|2022-05-20T16:02:...|                 Wtf|        bito_chell|predicted-name-of...|\n",
      "|   #pgl|2022-05-20T16:02:...|camperZZZ camperZ...|      nakiri_55688|predicted-name-of...|\n",
      "+-------+--------------------+--------------------+------------------+--------------------+\n",
      "only showing top 20 rows\n",
      "\n"
     ]
    }
   ],
   "source": [
    "ssc_t.stop()"
   ]
  },
  {
   "cell_type": "code",
   "execution_count": 22,
   "metadata": {},
   "outputs": [
    {
     "name": "stdout",
     "output_type": "stream",
     "text": [
      "completed\n"
     ]
    }
   ],
   "source": [
    "print('completed')"
   ]
  }
 ],
 "metadata": {
  "interpreter": {
   "hash": "3ef7bfce4295b9231ba342c7940904953e4109385f03de18d3a38947780f5dd0"
  },
  "kernelspec": {
   "display_name": ".venv",
   "language": "python",
   "name": ".venv"
  },
  "language_info": {
   "codemirror_mode": {
    "name": "ipython",
    "version": 3
   },
   "file_extension": ".py",
   "mimetype": "text/x-python",
   "name": "python",
   "nbconvert_exporter": "python",
   "pygments_lexer": "ipython3",
   "version": "3.10.4"
  },
  "toc": {
   "base_numbering": 1,
   "nav_menu": {},
   "number_sections": true,
   "sideBar": true,
   "skip_h1_title": false,
   "title_cell": "Table of Contents",
   "title_sidebar": "Contents",
   "toc_cell": false,
   "toc_position": {},
   "toc_section_display": true,
   "toc_window_display": false
  }
 },
 "nbformat": 4,
 "nbformat_minor": 2
}
