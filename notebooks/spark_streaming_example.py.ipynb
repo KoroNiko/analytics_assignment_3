{
 "cells": [
  {
   "cell_type": "code",
   "execution_count": 2,
   "metadata": {},
   "outputs": [],
   "source": [
    "import threading\n",
    "\n",
    "# Helper thread to avoid the Spark StreamingContext from blocking Jupyter\n",
    "        \n",
    "class StreamingThread(threading.Thread):\n",
    "    def __init__(self, ssc):\n",
    "        super().__init__()\n",
    "        self.ssc = ssc\n",
    "    def run(self):\n",
    "        self.ssc.start()\n",
    "        self.ssc.awaitTermination()\n",
    "    def stop(self):\n",
    "        print('----- Stopping... this may take a few seconds -----')\n",
    "        self.ssc.stop(stopSparkContext=False, stopGraceFully=True)"
   ]
  },
  {
   "cell_type": "code",
   "execution_count": 3,
   "metadata": {},
   "outputs": [
    {
     "data": {
      "text/html": [
       "\n",
       "        <div>\n",
       "            <p><b>SparkContext</b></p>\n",
       "\n",
       "            <p><a href=\"http://192.168.0.143:4041\">Spark UI</a></p>\n",
       "\n",
       "            <dl>\n",
       "              <dt>Version</dt>\n",
       "                <dd><code>v3.2.1</code></dd>\n",
       "              <dt>Master</dt>\n",
       "                <dd><code>local[*]</code></dd>\n",
       "              <dt>AppName</dt>\n",
       "                <dd><code>PySparkShell</code></dd>\n",
       "            </dl>\n",
       "        </div>\n",
       "        "
      ],
      "text/plain": [
       "<SparkContext master=local[*] appName=PySparkShell>"
      ]
     },
     "execution_count": 3,
     "metadata": {},
     "output_type": "execute_result"
    }
   ],
   "source": [
    "sc"
   ]
  },
  {
   "cell_type": "code",
   "execution_count": 4,
   "metadata": {},
   "outputs": [],
   "source": [
    "from pyspark.streaming import StreamingContext"
   ]
  },
  {
   "cell_type": "code",
   "execution_count": 5,
   "metadata": {},
   "outputs": [],
   "source": [
    "ssc = StreamingContext(sc, 10)"
   ]
  },
  {
   "cell_type": "code",
   "execution_count": 6,
   "metadata": {
    "scrolled": true
   },
   "outputs": [],
   "source": [
    "# Connect to localhost:8080 as the stream is being forwarded to a local socket\n",
    "lines = ssc.socketTextStream(\"localhost\", 8080)\n",
    "lines.pprint()"
   ]
  },
  {
   "cell_type": "code",
   "execution_count": 7,
   "metadata": {
    "scrolled": false
   },
   "outputs": [
    {
     "name": "stdout",
     "output_type": "stream",
     "text": [
      "-------------------------------------------\n",
      "Time: 2022-05-20 16:57:30\n",
      "-------------------------------------------\n",
      "{\"datetime\": \"2022-05-20T14:57:26.143592\", \"username\": \"itechplays19\", \"channel\": \"#pgl\", \"message\": \"pgldealwithit_TK\"}\n",
      "{\"datetime\": \"2022-05-20T14:57:26.143824\", \"username\": \"vesp_r\", \"channel\": \"#pgl\", \"message\": \"Copium Flames\"}\n",
      "{\"datetime\": \"2022-05-20T14:57:26.683587\", \"username\": \"manas291\", \"channel\": \"#pgl\", \"message\": \"BRA71L KEKW\"}\n",
      "\n",
      "-------------------------------------------\n",
      "Time: 2022-05-20 16:57:40\n",
      "-------------------------------------------\n",
      "{\"datetime\": \"2022-05-20T14:57:26.848832\", \"username\": \"rui_filipe17\", \"channel\": \"#pgl\", \"message\": \"ez4ence\"}\n",
      "{\"datetime\": \"2022-05-20T14:57:26.849054\", \"username\": \"jackgwynbled\", \"channel\": \"#pgl\", \"message\": \"WHOXI KEKW\"}\n",
      "{\"datetime\": \"2022-05-20T14:57:26.849202\", \"username\": \"mr_keydeed\", \"channel\": \"#pgl\", \"message\": \"china moment zzzzzz\"}\n",
      "{\"datetime\": \"2022-05-20T14:57:27.014333\", \"username\": \"merryzthought\", \"channel\": \"#pgl\", \"message\": \"pooh china\"}\n",
      "{\"datetime\": \"2022-05-20T14:57:27.014593\", \"username\": \"bean_eat\", \"channel\": \"#pgl\", \"message\": \"VITALITY FANS WHAT ARE YOU DOING HERE????/\"}\n",
      "{\"datetime\": \"2022-05-20T14:57:27.014771\", \"username\": \"playludesc\", \"channel\": \"#pgl\", \"message\": \"art lookalike\"}\n",
      "{\"datetime\": \"2022-05-20T14:57:27.014925\", \"username\": \"mojtabasimple\", \"channel\": \"#pgl\", \"message\": \"\\u06a9\\u0635\\u0645\\u0627\\u062f\\u0631\\u062a\"}\n",
      "{\"datetime\": \"2022-05-20T14:57:27.015060\", \"username\": \"srbuga3\", \"channel\": \"#pgl\", \"message\": \"@6elua why you mad?\"}\n",
      "{\"datetime\": \"2022-05-20T14:57:27.179800\", \"username\": \"hoykov18\", \"channel\": \"#pgl\", \"message\": \"MALDING KEKW\"}\n",
      "{\"datetime\": \"2022-05-20T14:57:27.346103\", \"username\": \"quote_if_pgl_audio_time\", \"channel\": \"#pgl\", \"message\": \"MALDING\"}\n",
      "...\n",
      "\n",
      "-------------------------------------------\n",
      "Time: 2022-05-20 16:57:50\n",
      "-------------------------------------------\n",
      "{\"datetime\": \"2022-05-20T14:57:36.854767\", \"username\": \"seazoncs\", \"channel\": \"#pgl\", \"message\": \"10-3 ECO KEKW\"}\n",
      "{\"datetime\": \"2022-05-20T14:57:37.020135\", \"username\": \"itechplays19\", \"channel\": \"#pgl\", \"message\": \"pgldealwithit_TK pgldealwithit_TK pgldealwithit_TK pgldealwithit_TK pgldealwithit_TK pgldealwithit_TK pgldealwithit_TK pgldealwithit_TK pgldealwithit_TK pgldealwithit_TK pgldealwithit_TK pgldealwithit_TK pgldealwithit_TK pgldealwithit_TK pgldealwithit_TK pgldealwithit_TK pgldealwithit_TK pgldealwithit_TK\"}\n",
      "{\"datetime\": \"2022-05-20T14:57:37.185804\", \"username\": \"t1redd\", \"channel\": \"#pgl\", \"message\": \"CHINA EZ\"}\n",
      "{\"datetime\": \"2022-05-20T14:57:37.351137\", \"username\": \"pinky_pl\", \"channel\": \"#pgl\", \"message\": \"Grim?\"}\n",
      "{\"datetime\": \"2022-05-20T14:57:37.351380\", \"username\": \"alphamonty\", \"channel\": \"#pgl\", \"message\": \"BigPhish BigPhish BigPhish BigPhish BigPhish BigPhish\"}\n",
      "{\"datetime\": \"2022-05-20T14:57:37.351527\", \"username\": \"egozhou\", \"channel\": \"#pgl\", \"message\": \"China No.1\"}\n",
      "{\"datetime\": \"2022-05-20T14:57:37.686916\", \"username\": \"thatobie\", \"channel\": \"#pgl\", \"message\": \"LOOK MOM MATCH FIXERS IN THE CROWD KEKW\"}\n",
      "{\"datetime\": \"2022-05-20T14:57:37.852751\", \"username\": \"mapitovk\", \"channel\": \"#pgl\", \"message\": \"ResidentSleeper\"}\n",
      "{\"datetime\": \"2022-05-20T14:57:38.018153\", \"username\": \"soumya2k\", \"channel\": \"#pgl\", \"message\": \"GRIM\"}\n",
      "{\"datetime\": \"2022-05-20T14:57:38.184187\", \"username\": \"6elua\", \"channel\": \"#pgl\", \"message\": \"BR fans Shush  BR fans Shush  BR fans Shush  BR fans Shush  BR fans Shush  BR fans Shush  BR fans Shush  BR fans Shush  BR fans Shush  BR fans Shush\"}\n",
      "...\n",
      "\n"
     ]
    }
   ],
   "source": [
    "ssc_t = StreamingThread(ssc)\n",
    "ssc_t.start()"
   ]
  },
  {
   "cell_type": "code",
   "execution_count": 8,
   "metadata": {},
   "outputs": [
    {
     "name": "stdout",
     "output_type": "stream",
     "text": [
      "----- Stopping... this may take a few seconds -----\n",
      "-------------------------------------------\n",
      "Time: 2022-05-20 16:58:00\n",
      "-------------------------------------------\n",
      "{\"datetime\": \"2022-05-20T14:57:46.883898\", \"username\": \"luuuukaaaaq\", \"channel\": \"#pgl\", \"message\": \"China number 1\"}\n",
      "{\"datetime\": \"2022-05-20T14:57:47.049347\", \"username\": \"canaldomuzao\", \"channel\": \"#pgl\", \"message\": \"GO HOME CPH ''SPEEDRUN''   GO HOME CPH ''SPEEDRUN''   GO HOME CPH ''SPEEDRUN''\"}\n",
      "{\"datetime\": \"2022-05-20T14:57:47.214740\", \"username\": \"kassupojufin_yt\", \"channel\": \"#pgl\", \"message\": \"NATUN PALJU AUKI LUL LUL LUL LUL\"}\n",
      "{\"datetime\": \"2022-05-20T14:57:47.380280\", \"username\": \"3emis_pl\", \"channel\": \"#pgl\", \"message\": \"ez4ence\"}\n",
      "{\"datetime\": \"2022-05-20T14:57:47.380647\", \"username\": \"nikito_117\", \"channel\": \"#pgl\", \"message\": \"vitality most and best fans\"}\n",
      "{\"datetime\": \"2022-05-20T14:57:48.003344\", \"username\": \"miss_aery\", \"channel\": \"#pgl\", \"message\": \"COPIUM HAGEN FLUKES\"}\n",
      "{\"datetime\": \"2022-05-20T14:57:49.862891\", \"username\": \"yupiter090504\", \"channel\": \"#pgl\", \"message\": \"gg\"}\n",
      "{\"datetime\": \"2022-05-20T14:57:49.863834\", \"username\": \"bluurple_\", \"channel\": \"#pgl\", \"message\": \"EZ FOR ENCE\"}\n",
      "{\"datetime\": \"2022-05-20T14:57:49.863930\", \"username\": \"ajweng\", \"channel\": \"#pgl\", \"message\": \"CHINA#1\"}\n",
      "{\"datetime\": \"2022-05-20T14:57:49.864024\", \"username\": \"kantistbb\", \"channel\": \"#pgl\", \"message\": \"xi is watching you china\"}\n",
      "...\n",
      "\n",
      "-------------------------------------------\n",
      "Time: 2022-05-20 16:58:10\n",
      "-------------------------------------------\n",
      "\n",
      "-------------------------------------------\n",
      "Time: 2022-05-20 16:58:20\n",
      "-------------------------------------------\n",
      "\n"
     ]
    }
   ],
   "source": [
    "ssc_t.stop()"
   ]
  },
  {
   "cell_type": "code",
   "execution_count": 9,
   "metadata": {},
   "outputs": [
    {
     "name": "stdout",
     "output_type": "stream",
     "text": [
      "completed\n"
     ]
    }
   ],
   "source": [
    "print('completed')"
   ]
  }
 ],
 "metadata": {
  "kernelspec": {
   "display_name": ".venv",
   "language": "python",
   "name": ".venv"
  },
  "language_info": {
   "codemirror_mode": {
    "name": "ipython",
    "version": 3
   },
   "file_extension": ".py",
   "mimetype": "text/x-python",
   "name": "python",
   "nbconvert_exporter": "python",
   "pygments_lexer": "ipython3",
   "version": "3.10.4"
  },
  "toc": {
   "base_numbering": 1,
   "nav_menu": {},
   "number_sections": true,
   "sideBar": true,
   "skip_h1_title": false,
   "title_cell": "Table of Contents",
   "title_sidebar": "Contents",
   "toc_cell": false,
   "toc_position": {},
   "toc_section_display": true,
   "toc_window_display": false
  }
 },
 "nbformat": 4,
 "nbformat_minor": 2
}
