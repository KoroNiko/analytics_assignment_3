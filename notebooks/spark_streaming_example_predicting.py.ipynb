{
 "cells": [
  {
   "cell_type": "code",
   "execution_count": 8,
   "metadata": {},
   "outputs": [],
   "source": [
    "import threading\n",
    "\n",
    "# Helper thread to avoid the Spark StreamingContext from blocking Jupyter\n",
    "        \n",
    "class StreamingThread(threading.Thread):\n",
    "    def __init__(self, ssc):\n",
    "        super().__init__()\n",
    "        self.ssc = ssc\n",
    "    def run(self):\n",
    "        self.ssc.start()\n",
    "        self.ssc.awaitTermination()\n",
    "    def stop(self):\n",
    "        print('----- Stopping... this may take a few seconds -----')\n",
    "        self.ssc.stop(stopSparkContext=False, stopGraceFully=True)"
   ]
  },
  {
   "cell_type": "code",
   "execution_count": 14,
   "metadata": {},
   "outputs": [],
   "source": [
    "from pyspark.streaming import StreamingContext\n",
    "from pyspark.sql import Row\n",
    "from pyspark.sql.functions import udf, struct, array, col, lit\n",
    "from pyspark.sql.types import StringType\n",
    "from pyspark.context import SparkContext\n",
    "from pyspark.sql.session import SparkSession\n",
    "sc = SparkContext.getOrCreate()\n",
    "spark = SparkSession(sc)"
   ]
  },
  {
   "cell_type": "code",
   "execution_count": 15,
   "metadata": {
    "scrolled": true
   },
   "outputs": [
    {
     "data": {
      "text/html": [
       "\n",
       "        <div>\n",
       "            <p><b>SparkContext</b></p>\n",
       "\n",
       "            <p><a href=\"http://192.168.0.143:4040\">Spark UI</a></p>\n",
       "\n",
       "            <dl>\n",
       "              <dt>Version</dt>\n",
       "                <dd><code>v3.2.1</code></dd>\n",
       "              <dt>Master</dt>\n",
       "                <dd><code>local[*]</code></dd>\n",
       "              <dt>AppName</dt>\n",
       "                <dd><code>pyspark-shell</code></dd>\n",
       "            </dl>\n",
       "        </div>\n",
       "        "
      ],
      "text/plain": [
       "<SparkContext master=local[*] appName=pyspark-shell>"
      ]
     },
     "execution_count": 15,
     "metadata": {},
     "output_type": "execute_result"
    }
   ],
   "source": [
    "sc"
   ]
  },
  {
   "cell_type": "code",
   "execution_count": 16,
   "metadata": {},
   "outputs": [
    {
     "data": {
      "text/html": [
       "\n",
       "            <div>\n",
       "                <p><b>SparkSession - in-memory</b></p>\n",
       "                \n",
       "        <div>\n",
       "            <p><b>SparkContext</b></p>\n",
       "\n",
       "            <p><a href=\"http://192.168.0.143:4040\">Spark UI</a></p>\n",
       "\n",
       "            <dl>\n",
       "              <dt>Version</dt>\n",
       "                <dd><code>v3.2.1</code></dd>\n",
       "              <dt>Master</dt>\n",
       "                <dd><code>local[*]</code></dd>\n",
       "              <dt>AppName</dt>\n",
       "                <dd><code>pyspark-shell</code></dd>\n",
       "            </dl>\n",
       "        </div>\n",
       "        \n",
       "            </div>\n",
       "        "
      ],
      "text/plain": [
       "<pyspark.sql.session.SparkSession at 0x1d85a763430>"
      ]
     },
     "execution_count": 16,
     "metadata": {},
     "output_type": "execute_result"
    }
   ],
   "source": [
    "spark"
   ]
  },
  {
   "cell_type": "code",
   "execution_count": 12,
   "metadata": {},
   "outputs": [],
   "source": [
    "globals()['models_loaded'] = False\n",
    "globals()['my_model'] = None\n",
    "\n",
    "# Toy predict function. Normally you'd use your loaded globals()['my_model'] here\n",
    "def predict(df):\n",
    "    return 'predicted-name-of-channel'\n",
    "\n",
    "predict_udf = udf(predict, StringType())\n",
    "\n",
    "def process(time, rdd):\n",
    "    if rdd.isEmpty():\n",
    "        return\n",
    "    \n",
    "    print(\"========= %s =========\" % str(time))\n",
    "    \n",
    "    # Convert to data frame\n",
    "    df = spark.read.json(rdd)\n",
    "    df.show()\n",
    "    \n",
    "    # Utilize our predict function\n",
    "    df_withpreds = df.withColumn(\"pred\", predict_udf(\n",
    "        struct([df[x] for x in df.columns])\n",
    "    ))\n",
    "    df_withpreds.show()\n",
    "    \n",
    "    # Normally, you wouldn't use a UDF (User Defined Function) Python function to predict as we did here (you can)\n",
    "    # but an MLlib model you've built and saved with Spark\n",
    "    # In this case, you need to prevent loading your model in every call to \"process\" as follows:\n",
    "    \n",
    "    # Load in the model if not yet loaded:\n",
    "    if not globals()['models_loaded']:\n",
    "        # load in your models here\n",
    "        globals()['my_model'] = '***' # Replace '***' with:    [...].load('my_logistic_regression')\n",
    "        globals()['models_loaded'] = True\n",
    "        \n",
    "    # And then predict using the loaded model: \n",
    "    # df_result = globals()['my_model'].transform(df)\n",
    "    # df_result.show()"
   ]
  },
  {
   "cell_type": "code",
   "execution_count": 13,
   "metadata": {},
   "outputs": [
    {
     "ename": "NameError",
     "evalue": "name 'sc' is not defined",
     "output_type": "error",
     "traceback": [
      "\u001b[1;31m---------------------------------------------------------------------------\u001b[0m",
      "\u001b[1;31mNameError\u001b[0m                                 Traceback (most recent call last)",
      "\u001b[1;32mc:\\Users\\Nikos\\Desktop\\analytics_project\\spark\\notebooks\\spark_streaming_example_predicting.py.ipynb Cell 6'\u001b[0m in \u001b[0;36m<cell line: 1>\u001b[1;34m()\u001b[0m\n\u001b[1;32m----> <a href='vscode-notebook-cell:/c%3A/Users/Nikos/Desktop/analytics_project/spark/notebooks/spark_streaming_example_predicting.py.ipynb#ch0000005?line=0'>1</a>\u001b[0m ssc \u001b[39m=\u001b[39m StreamingContext(sc, \u001b[39m10\u001b[39m)\n",
      "\u001b[1;31mNameError\u001b[0m: name 'sc' is not defined"
     ]
    }
   ],
   "source": [
    "ssc = StreamingContext(sc, 10)"
   ]
  },
  {
   "cell_type": "code",
   "execution_count": 7,
   "metadata": {
    "scrolled": true
   },
   "outputs": [],
   "source": [
    "lines = ssc.socketTextStream(\"localhost\", 8080)\n",
    "lines.foreachRDD(process)"
   ]
  },
  {
   "cell_type": "code",
   "execution_count": 8,
   "metadata": {
    "scrolled": false
   },
   "outputs": [
    {
     "name": "stdout",
     "output_type": "stream",
     "text": [
      "========= 2022-05-20 17:09:30 =========\n",
      "+-------+--------------------+-------+----------+\n",
      "|channel|            datetime|message|  username|\n",
      "+-------+--------------------+-------+----------+\n",
      "|   #pgl|2022-05-20T15:09:...|     nt|badman1331|\n",
      "+-------+--------------------+-------+----------+\n",
      "\n",
      "+-------+--------------------+-------+----------+--------------------+\n",
      "|channel|            datetime|message|  username|                pred|\n",
      "+-------+--------------------+-------+----------+--------------------+\n",
      "|   #pgl|2022-05-20T15:09:...|     nt|badman1331|predicted-name-of...|\n",
      "+-------+--------------------+-------+----------+--------------------+\n",
      "\n",
      "========= 2022-05-20 17:09:40 =========\n",
      "+-------+--------------------+--------------------+--------------+\n",
      "|channel|            datetime|             message|      username|\n",
      "+-------+--------------------+--------------------+--------------+\n",
      "|   #pgl|2022-05-20T15:09:...|           PepeHands|  dannytalentz|\n",
      "|   #pgl|2022-05-20T15:09:...|                  gg|  the_donald24|\n",
      "|   #pgl|2022-05-20T15:09:...|           ?????????|          poc1|\n",
      "|   #pgl|2022-05-20T15:09:...|                 9hp|         tru6h|\n",
      "|   #pgl|2022-05-20T15:09:...|              hmm no|justcallmeossi|\n",
      "|   #pgl|2022-05-20T15:09:...|                  EZ|          upsi|\n",
      "|   #pgl|2022-05-20T15:09:...|            NT JABBI|     azolow4ik|\n",
      "|   #pgl|2022-05-20T15:09:...|                  EZ|      vollmor0|\n",
      "|   #pgl|2022-05-20T15:09:...|   NOT TENZ BatChest|        flammx|\n",
      "|   #pgl|2022-05-20T15:09:...|      codename spinx|  reuas_solrac|\n",
      "|   #pgl|2022-05-20T15:09:...|                  NT|   draiocht009|\n",
      "|   #pgl|2022-05-20T15:09:...|              NT LUL|         looya|\n",
      "|   #pgl|2022-05-20T15:09:...|                  ez|    pietro_vlp|\n",
      "|   #pgl|2022-05-20T15:09:...|hope ya'll having...|    wpowerfish|\n",
      "|   #pgl|2022-05-20T15:09:...|                  nt|   lionwrath14|\n",
      "|   #pgl|2022-05-20T15:09:...|          EZ 4 SPINX|        roeify|\n",
      "|   #pgl|2022-05-20T15:09:...|Chokola \"Ch0K0\" K...| prathmeshtari|\n",
      "|   #pgl|2022-05-20T15:09:...|        m4 smh Sadge|      reacken_|\n",
      "|   #pgl|2022-05-20T15:09:...|                  nt|       bhiteon|\n",
      "|   #pgl|2022-05-20T15:09:...|             ez4ence|     kingssj20|\n",
      "+-------+--------------------+--------------------+--------------+\n",
      "only showing top 20 rows\n",
      "\n",
      "+-------+--------------------+--------------------+--------------+--------------------+\n",
      "|channel|            datetime|             message|      username|                pred|\n",
      "+-------+--------------------+--------------------+--------------+--------------------+\n",
      "|   #pgl|2022-05-20T15:09:...|           PepeHands|  dannytalentz|predicted-name-of...|\n",
      "|   #pgl|2022-05-20T15:09:...|                  gg|  the_donald24|predicted-name-of...|\n",
      "|   #pgl|2022-05-20T15:09:...|           ?????????|          poc1|predicted-name-of...|\n",
      "|   #pgl|2022-05-20T15:09:...|                 9hp|         tru6h|predicted-name-of...|\n",
      "|   #pgl|2022-05-20T15:09:...|              hmm no|justcallmeossi|predicted-name-of...|\n",
      "|   #pgl|2022-05-20T15:09:...|                  EZ|          upsi|predicted-name-of...|\n",
      "|   #pgl|2022-05-20T15:09:...|            NT JABBI|     azolow4ik|predicted-name-of...|\n",
      "|   #pgl|2022-05-20T15:09:...|                  EZ|      vollmor0|predicted-name-of...|\n",
      "|   #pgl|2022-05-20T15:09:...|   NOT TENZ BatChest|        flammx|predicted-name-of...|\n",
      "|   #pgl|2022-05-20T15:09:...|      codename spinx|  reuas_solrac|predicted-name-of...|\n",
      "|   #pgl|2022-05-20T15:09:...|                  NT|   draiocht009|predicted-name-of...|\n",
      "|   #pgl|2022-05-20T15:09:...|              NT LUL|         looya|predicted-name-of...|\n",
      "|   #pgl|2022-05-20T15:09:...|                  ez|    pietro_vlp|predicted-name-of...|\n",
      "|   #pgl|2022-05-20T15:09:...|hope ya'll having...|    wpowerfish|predicted-name-of...|\n",
      "|   #pgl|2022-05-20T15:09:...|                  nt|   lionwrath14|predicted-name-of...|\n",
      "|   #pgl|2022-05-20T15:09:...|          EZ 4 SPINX|        roeify|predicted-name-of...|\n",
      "|   #pgl|2022-05-20T15:09:...|Chokola \"Ch0K0\" K...| prathmeshtari|predicted-name-of...|\n",
      "|   #pgl|2022-05-20T15:09:...|        m4 smh Sadge|      reacken_|predicted-name-of...|\n",
      "|   #pgl|2022-05-20T15:09:...|                  nt|       bhiteon|predicted-name-of...|\n",
      "|   #pgl|2022-05-20T15:09:...|             ez4ence|     kingssj20|predicted-name-of...|\n",
      "+-------+--------------------+--------------------+--------------+--------------------+\n",
      "only showing top 20 rows\n",
      "\n",
      "========= 2022-05-20 17:09:50 =========\n",
      "+-------+--------------------+--------------------+--------------+\n",
      "|channel|            datetime|             message|      username|\n",
      "+-------+--------------------+--------------------+--------------+\n",
      "|   #pgl|2022-05-20T15:09:...|EZ4ENCE EZ4ENCE E...|       sh1van_|\n",
      "|   #pgl|2022-05-20T15:09:...|           PepeLaugh|      zayro69_|\n",
      "|   #pgl|2022-05-20T15:09:...|           !schedulw|     lasarus14|\n",
      "|   #pgl|2022-05-20T15:09:...| 13 IS ALL THEY GET?|       ven0rix|\n",
      "|   #pgl|2022-05-20T15:09:...|           EZ 4 ENCE|      szfuncio|\n",
      "|   #pgl|2022-05-20T15:09:...|            gigachad|       yihen09|\n",
      "|   #pgl|2022-05-20T15:09:...|                  NT|   goodlivesam|\n",
      "|   #pgl|2022-05-20T15:09:...|             EZ4ENCE|      ducc1545|\n",
      "|   #pgl|2022-05-20T15:09:...|                  EZ|      bo_brend|\n",
      "|   #pgl|2022-05-20T15:09:...|no comeback PepeL...|       dehidr8|\n",
      "|   #pgl|2022-05-20T15:09:...|                  EZ|  lotuszaphire|\n",
      "|   #pgl|2022-05-20T15:09:...|                  nt|huyatv16366516|\n",
      "|   #pgl|2022-05-20T15:09:...|based on eco this...|        terced|\n",
      "|   #pgl|2022-05-20T15:09:...|HELO CHAT 🙂 FALM...|       winde16|\n",
      "|   #pgl|2022-05-20T15:09:...|BatChest JABBI DA...|  simplemind22|\n",
      "|   #pgl|2022-05-20T15:09:...|I don't believe i...|  deadlymousez|\n",
      "|   #pgl|2022-05-20T15:09:...|                 2-0| beefjerkygame|\n",
      "|   #pgl|2022-05-20T15:09:...|           PepeLaugh|       br0zart|\n",
      "|   #pgl|2022-05-20T15:09:...|          bruh 14 hp|     mmmatucha|\n",
      "|   #pgl|2022-05-20T15:09:...|TENZ WOULD'VE WON...|     god_se7en|\n",
      "+-------+--------------------+--------------------+--------------+\n",
      "only showing top 20 rows\n",
      "\n",
      "+-------+--------------------+--------------------+--------------+--------------------+\n",
      "|channel|            datetime|             message|      username|                pred|\n",
      "+-------+--------------------+--------------------+--------------+--------------------+\n",
      "|   #pgl|2022-05-20T15:09:...|EZ4ENCE EZ4ENCE E...|       sh1van_|predicted-name-of...|\n",
      "|   #pgl|2022-05-20T15:09:...|           PepeLaugh|      zayro69_|predicted-name-of...|\n",
      "|   #pgl|2022-05-20T15:09:...|           !schedulw|     lasarus14|predicted-name-of...|\n",
      "|   #pgl|2022-05-20T15:09:...| 13 IS ALL THEY GET?|       ven0rix|predicted-name-of...|\n",
      "|   #pgl|2022-05-20T15:09:...|           EZ 4 ENCE|      szfuncio|predicted-name-of...|\n",
      "|   #pgl|2022-05-20T15:09:...|            gigachad|       yihen09|predicted-name-of...|\n",
      "|   #pgl|2022-05-20T15:09:...|                  NT|   goodlivesam|predicted-name-of...|\n",
      "|   #pgl|2022-05-20T15:09:...|             EZ4ENCE|      ducc1545|predicted-name-of...|\n",
      "|   #pgl|2022-05-20T15:09:...|                  EZ|      bo_brend|predicted-name-of...|\n",
      "|   #pgl|2022-05-20T15:09:...|no comeback PepeL...|       dehidr8|predicted-name-of...|\n",
      "|   #pgl|2022-05-20T15:09:...|                  EZ|  lotuszaphire|predicted-name-of...|\n",
      "|   #pgl|2022-05-20T15:09:...|                  nt|huyatv16366516|predicted-name-of...|\n",
      "|   #pgl|2022-05-20T15:09:...|based on eco this...|        terced|predicted-name-of...|\n",
      "|   #pgl|2022-05-20T15:09:...|HELO CHAT 🙂 FALM...|       winde16|predicted-name-of...|\n",
      "|   #pgl|2022-05-20T15:09:...|BatChest JABBI DA...|  simplemind22|predicted-name-of...|\n",
      "|   #pgl|2022-05-20T15:09:...|I don't believe i...|  deadlymousez|predicted-name-of...|\n",
      "|   #pgl|2022-05-20T15:09:...|                 2-0| beefjerkygame|predicted-name-of...|\n",
      "|   #pgl|2022-05-20T15:09:...|           PepeLaugh|       br0zart|predicted-name-of...|\n",
      "|   #pgl|2022-05-20T15:09:...|          bruh 14 hp|     mmmatucha|predicted-name-of...|\n",
      "|   #pgl|2022-05-20T15:09:...|TENZ WOULD'VE WON...|     god_se7en|predicted-name-of...|\n",
      "+-------+--------------------+--------------------+--------------+--------------------+\n",
      "only showing top 20 rows\n",
      "\n"
     ]
    },
    {
     "name": "stdout",
     "output_type": "stream",
     "text": [
      "========= 2022-05-20 17:10:00 =========\n"
     ]
    }
   ],
   "source": [
    "ssc_t = StreamingThread(ssc)\n",
    "ssc_t.start()"
   ]
  },
  {
   "cell_type": "code",
   "execution_count": null,
   "metadata": {
    "scrolled": false
   },
   "outputs": [
    {
     "name": "stdout",
     "output_type": "stream",
     "text": [
      "----- Stopping... this may take a few seconds -----\n"
     ]
    }
   ],
   "source": [
    "ssc_t.stop()"
   ]
  },
  {
   "cell_type": "code",
   "execution_count": 11,
   "metadata": {},
   "outputs": [
    {
     "name": "stdout",
     "output_type": "stream",
     "text": [
      "completed\n"
     ]
    }
   ],
   "source": [
    "print('completed')"
   ]
  }
 ],
 "metadata": {
  "interpreter": {
   "hash": "3ef7bfce4295b9231ba342c7940904953e4109385f03de18d3a38947780f5dd0"
  },
  "kernelspec": {
   "display_name": "Python 3.10.4 ('.venv': venv)",
   "language": "python",
   "name": "python3"
  },
  "language_info": {
   "codemirror_mode": {
    "name": "ipython",
    "version": 3
   },
   "file_extension": ".py",
   "mimetype": "text/x-python",
   "name": "python",
   "nbconvert_exporter": "python",
   "pygments_lexer": "ipython3",
   "version": "3.10.4"
  },
  "toc": {
   "base_numbering": 1,
   "nav_menu": {},
   "number_sections": true,
   "sideBar": true,
   "skip_h1_title": false,
   "title_cell": "Table of Contents",
   "title_sidebar": "Contents",
   "toc_cell": false,
   "toc_position": {},
   "toc_section_display": true,
   "toc_window_display": false
  }
 },
 "nbformat": 4,
 "nbformat_minor": 2
}
